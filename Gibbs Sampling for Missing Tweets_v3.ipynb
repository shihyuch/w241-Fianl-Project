{
 "cells": [
  {
   "cell_type": "markdown",
   "metadata": {},
   "source": [
    "### Using LM to find KEY words linear trend fit \"flu\" best (by paper Using Twitter to Estimate and Predict the Trends and Opinions)\n",
    "### Applying Gibbs sampling to find coefficients\n"
   ]
  },
  {
   "cell_type": "code",
   "execution_count": 2,
   "metadata": {
    "collapsed": true
   },
   "outputs": [],
   "source": [
    "import tweepy\n",
    "import sys\n",
    "import pandas as pd\n",
    "import numpy as np\n",
    "import matplotlib.pyplot as plt\n",
    "import json\n",
    "import random\n",
    "from tweepy import Stream\n",
    "import csv\n",
    "from tweepy.streaming import StreamListener\n",
    "from tweepy import OAuthHandler\n",
    "from datetime import datetime#\n",
    "import pymongo\n",
    "import ipywidgets as wgt\n",
    "from IPython.display import display\n",
    "from sklearn.feature_extraction.text import CountVectorizer\n",
    "import re\n",
    "import time\n",
    "%matplotlib inline \n",
    "\n",
    "pd.options.display.max_columns = 50\n",
    "pd.options.display.max_rows = 50\n",
    "pd.options.display.width = 120"
   ]
  },
  {
   "cell_type": "code",
   "execution_count": 3,
   "metadata": {
    "collapsed": true
   },
   "outputs": [],
   "source": [
    "consumer_key = \"Your Credential\"\n",
    "\n",
    "consumer_secret = \"Your Credential\";\n",
    "\n",
    "access_token = \"Your Credential\";\n",
    "\n",
    "access_token_secret = \"Your Credential\";\n",
    "\n",
    "\n",
    "auth = tweepy.OAuthHandler(consumer_key, consumer_secret)\n",
    "auth.set_access_token(access_token, access_token_secret)\n",
    "\n",
    "api = tweepy.API(auth)"
   ]
  },
  {
   "cell_type": "code",
   "execution_count": 4,
   "metadata": {
    "collapsed": false
   },
   "outputs": [],
   "source": [
    "def get_all_tweets(screen_name):\n",
    "    alltweets = []\n",
    "    new_tweets = api.user_timeline(screen_name = screen_name,count=200)\n",
    "    alltweets.extend(new_tweets)\n",
    "    oldest = alltweets[-1].id - 1\n",
    "    counter = 0\n",
    "    while (len(new_tweets) > 0) and (counter < 3):\n",
    "        counter = counter + 1\n",
    "        print(\"getting tweets before %s\" % (oldest))\n",
    "    \n",
    "        #all subsiquent requests use the max_id param to prevent duplicates\n",
    "        new_tweets = api.user_timeline(screen_name = screen_name,count=200,max_id=oldest)\n",
    "\n",
    "        #save most recent tweets\n",
    "        alltweets.extend(new_tweets)\n",
    "        \n",
    "        #update the id of the oldest tweet less one\n",
    "        oldest = alltweets[-1].id - 1\n",
    "        \n",
    "        print(\"...%s tweets downloaded so far\" % (len(alltweets)))\n",
    "\n",
    "    #transform the tweepy tweets into a 2D array that will populate the csv\t\n",
    "    outtweets = [[tweet.id_str, tweet.created_at, tweet.text.encode(\"utf-8\"), tweet.retweet_count] for tweet in alltweets]\n",
    "    \n",
    "    #write the csv\t\n",
    "    with open('%s_tweets.csv' % screen_name, 'w') as f:\n",
    "        writer = csv.writer(f)\n",
    "        writer.writerow([\"id\",\"created_at\",\"text\", \"retweet_count\"])\n",
    "        writer.writerows(outtweets)\n",
    "\n",
    "pass"
   ]
  },
  {
   "cell_type": "code",
   "execution_count": 27,
   "metadata": {
    "collapsed": false
   },
   "outputs": [
    {
     "name": "stdout",
     "output_type": "stream",
     "text": [
      "getting tweets before 806147979811913728\n",
      "...400 tweets downloaded so far\n",
      "getting tweets before 770664830323847167\n",
      "...599 tweets downloaded so far\n",
      "getting tweets before 712054892551131135\n",
      "...799 tweets downloaded so far\n"
     ]
    }
   ],
   "source": [
    "get_all_tweets(\"BlairMeadows\")"
   ]
  },
  {
   "cell_type": "code",
   "execution_count": 28,
   "metadata": {
    "collapsed": true
   },
   "outputs": [],
   "source": [
    "def is_positive(word):\n",
    "    with open('positive_words.txt') as f:\n",
    "        found = False\n",
    "        for line in f:\n",
    "            if word.upper() in line: # Key line: check if `w` is in the line.\n",
    "                found = True\n",
    "                return found \n",
    "            else:\n",
    "                continue\n",
    "        return False"
   ]
  },
  {
   "cell_type": "code",
   "execution_count": 29,
   "metadata": {
    "collapsed": false
   },
   "outputs": [
    {
     "name": "stdout",
     "output_type": "stream",
     "text": [
      "[]\n",
      "The retweet_count rate over days is 0.0000.\n",
      "The tweets rate over days is 0.0049.\n",
      "9\n",
      "The tweets positive rate over days is 0.0220.\n",
      "4689\n",
      "The tweets ALL positive rate over days is 11.4645.\n"
     ]
    }
   ],
   "source": [
    "# flu shot rate NYCREACH_tweets.csv\n",
    " \n",
    "# how many tweets with flu shot, those tweets ID\n",
    "\n",
    "id_list=[]\n",
    "created_time_list=[]\n",
    "text_list=[]\n",
    "retweet_list = []\n",
    "        \n",
    "df = pd.read_csv(\"BlairMeadows_tweets.csv\")\n",
    "\n",
    "#df = pd.read_csv(\"Fabian_Peru_retweets.csv\")\n",
    "\n",
    "for i in range(0, df.id.count()):\n",
    "    if (\"flu shot\" in df.text[i]):\n",
    "        id_list.append(df.id[i])\n",
    "        created_time_list.append(df.created_at[i])\n",
    "        text_list.append(df.text[1])\n",
    "        #retweet_list.append(df.retweet_count[i])\n",
    "    else:\n",
    "        continue\n",
    "\n",
    "#print(id_list)\n",
    "print(retweet_list)\n",
    "#print(created_time_list)\n",
    "#print(text_list)\n",
    "        \n",
    "# time duration\n",
    "\n",
    "date_format = \"%Y-%m-%d %H:%M:%S\"\n",
    "a = datetime.strptime(df.created_at[0], date_format)\n",
    "b = datetime.strptime(df.created_at[df.id.count()-1], date_format)\n",
    "delta = a- b \n",
    "\n",
    "# tweets rate by days print('The value of PI is approximately %5.3f.' % math.pi)\n",
    "\n",
    "print('The retweet_count rate over days is %.4f.' % float((sum(retweet_list))/delta.days)) \n",
    "\n",
    "print('The tweets rate over days is %.4f.' % float((len(id_list))/delta.days)) \n",
    "\n",
    "# collected tweets with flu shot polarity\n",
    "positive_count = 0\n",
    "for i in range(0, (len(id_list))):\n",
    "    wordList = re.sub(\"[^\\w]\", \" \", df.text[i]).split()\n",
    "    for word in wordList: \n",
    "        if word.isalpha() and (is_positive(str(word))):\n",
    "            positive_count = positive_count + 1\n",
    "print(positive_count)\n",
    "print('The tweets positive rate over days is %.4f.' % float(positive_count/delta.days))\n",
    "\n",
    "\n",
    "# collected tweets with flu shot polarity\n",
    "positive_count = 0\n",
    "for i in range(0, (df.id.count())):\n",
    "    wordList = re.sub(\"[^\\w]\", \" \", df.text[i]).split()\n",
    "    for word in wordList: \n",
    "        if word.isalpha() and (is_positive(str(word))):\n",
    "            positive_count = positive_count + 1\n",
    "print(positive_count)\n",
    "print('The tweets ALL positive rate over days is %.4f.' % float(positive_count/delta.days))\n",
    "\n"
   ]
  },
  {
   "cell_type": "code",
   "execution_count": 87,
   "metadata": {
    "collapsed": false
   },
   "outputs": [
    {
     "name": "stdout",
     "output_type": "stream",
     "text": [
      "1\n",
      "796\n"
     ]
    }
   ],
   "source": [
    "print (delta.days)\n",
    "print (df.id.count()-1)"
   ]
  },
  {
   "cell_type": "code",
   "execution_count": 5,
   "metadata": {
    "collapsed": false
   },
   "outputs": [],
   "source": [
    "%matplotlib inline\n",
    "from seaborn import plt\n",
    "#import pandas as pd\n",
    "plt.rcParams['figure.figsize'] = (10, 5)"
   ]
  },
  {
   "cell_type": "code",
   "execution_count": 6,
   "metadata": {
    "collapsed": true
   },
   "outputs": [],
   "source": [
    "def sample_beta_0(y, x, beta_1, tau, mu_0, tau_0):\n",
    "    N = len(y)\n",
    "    assert len(x) == N\n",
    "    precision = tau_0 + tau * N\n",
    "    mean = tau_0 * mu_0 + tau * np.sum(y - beta_1 * x)\n",
    "    mean /= precision\n",
    "    return np.random.normal(mean, 1 / np.sqrt(precision))"
   ]
  },
  {
   "cell_type": "code",
   "execution_count": 7,
   "metadata": {
    "collapsed": true
   },
   "outputs": [],
   "source": [
    "def sample_beta_1(y, x, beta_0, tau, mu_1, tau_1):\n",
    "    N = len(y)\n",
    "    assert len(x) == N\n",
    "    precision = tau_1 + tau * np.sum(x * x)\n",
    "    mean = tau_1 * mu_1 + tau * np.sum( (y - beta_0) * x)\n",
    "    mean /= precision\n",
    "    return np.random.normal(mean, 1 / np.sqrt(precision))"
   ]
  },
  {
   "cell_type": "code",
   "execution_count": 8,
   "metadata": {
    "collapsed": true
   },
   "outputs": [],
   "source": [
    "def sample_tau(y, x, beta_0, beta_1, alpha, beta):\n",
    "    N = len(y)\n",
    "    alpha_new = alpha + N / 2\n",
    "    resid = y - beta_0 - beta_1 * x\n",
    "    beta_new = beta + np.sum(resid * resid) / 2\n",
    "    return np.random.gamma(alpha_new, 1 / beta_new)"
   ]
  },
  {
   "cell_type": "code",
   "execution_count": 3,
   "metadata": {
    "collapsed": false
   },
   "outputs": [
    {
     "data": {
      "text/plain": [
       "<matplotlib.text.Text at 0x1c776e1be80>"
      ]
     },
     "execution_count": 3,
     "metadata": {},
     "output_type": "execute_result"
    },
    {
     "data": {
      "image/png": "[encoded data removed]",
      "text/plain": [
       "<matplotlib.figure.Figure at 0x1c776cb0ac8>"
      ]
     },
     "metadata": {},
     "output_type": "display_data"
    }
   ],
   "source": [
    "beta_0_true = -1\n",
    "beta_1_true = 2\n",
    "tau_true = 1\n",
    "\n",
    "\n",
    "\n",
    "N = 20\n",
    "x = [4.2311, 3.9683, 6.4555, 5.0951, 6.234,\n",
    "     3.9607, 9.0545, 0.2693, 10.3923, 8.702,\n",
    "     9.1740, 3.6061, 6.5217, 9.8738, 3.189,\n",
    "     3.9854, 11.5486, 6.345, 2.592, 9.578]\n",
    "x = np.asarray(x)\n",
    "y = [0.0612, 0.0053, 0.0156,  0.0073, 0.0181,\n",
    "     0.0079, 0.0044, 0.0118, 0.0399, 0.023,\n",
    "     0.0413, 0.0012, 0.0265, 0.0398, 0.015,\n",
    "     0.0081, 0.0296, 0.0171, 0.0149, 0.0231]\n",
    "y = np.asarray(y)\n",
    "\n",
    "synth_plot = plt.plot(x, y, \"o\")\n",
    "plt.xlabel(\"tweets positive rate (ALL)\")\n",
    "plt.ylabel(\"tweets positive rate (Flu Shot)\")"
   ]
  },
  {
   "cell_type": "code",
   "execution_count": 16,
   "metadata": {
    "collapsed": true
   },
   "outputs": [],
   "source": [
    "## specify initial values\n",
    "init = {\"beta_0\": 0.1,\n",
    "        \"beta_1\": 0.1,\n",
    "        \"tau\": 2}\n",
    "\n",
    "## specify hyper parameters\n",
    "hypers = {\"mu_0\": 0.1,\n",
    "         \"tau_0\": 1,\n",
    "         \"mu_1\": 0.1,\n",
    "         \"tau_1\": 1,\n",
    "         \"alpha\": 2,\n",
    "         \"beta\": 1}"
   ]
  },
  {
   "cell_type": "code",
   "execution_count": 17,
   "metadata": {
    "collapsed": true
   },
   "outputs": [],
   "source": [
    "def gibbs(y, x, iters, init, hypers):\n",
    "    assert len(y) == len(x)\n",
    "    beta_0 = init[\"beta_0\"]\n",
    "    beta_1 = init[\"beta_1\"]\n",
    "    tau = init[\"tau\"]\n",
    "    \n",
    "    trace = np.zeros((iters, 3)) ## trace to store values of beta_0, beta_1, tau\n",
    "    \n",
    "    for it in range(iters):\n",
    "        beta_0 = sample_beta_0(y, x, beta_1, tau, hypers[\"mu_0\"], hypers[\"tau_0\"])\n",
    "        beta_1 = sample_beta_1(y, x, beta_0, tau, hypers[\"mu_1\"], hypers[\"tau_1\"])\n",
    "        tau = sample_tau(y, x, beta_0, beta_1, hypers[\"alpha\"], hypers[\"beta\"])\n",
    "        trace[it,:] = np.array((beta_0, beta_1, tau))\n",
    "        \n",
    "    trace = pd.DataFrame(trace)\n",
    "    trace.columns = ['beta_0', 'beta_1', 'tau']\n",
    "        \n",
    "    return trace"
   ]
  },
  {
   "cell_type": "code",
   "execution_count": 19,
   "metadata": {
    "collapsed": false
   },
   "outputs": [
    {
     "name": "stdout",
     "output_type": "stream",
     "text": [
      "[  4.2311   3.9683   6.4555   5.0951   6.234    3.9607   9.0545   0.2693\n",
      "  10.3923   8.702    9.174    3.6061   6.5217   9.8738   3.189    3.9854\n",
      "  11.5486   6.345    2.592    9.578 ]\n"
     ]
    }
   ],
   "source": [
    "print(x)"
   ]
  },
  {
   "cell_type": "code",
   "execution_count": 18,
   "metadata": {
    "collapsed": false
   },
   "outputs": [
    {
     "data": {
      "text/plain": [
       "<matplotlib.text.Text at 0x2d7a17ab7f0>"
      ]
     },
     "execution_count": 18,
     "metadata": {},
     "output_type": "execute_result"
    },
    {
     "data": {
      "image/png": "[encoded data removed]",
      "text/plain": [
       "<matplotlib.figure.Figure at 0x2d7a179e438>"
      ]
     },
     "metadata": {},
     "output_type": "display_data"
    }
   ],
   "source": [
    "iters = 1000\n",
    "trace = gibbs(y, x, iters, init, hypers)\n",
    "traceplot = trace.plot()\n",
    "traceplot.set_xlabel(\"Iteration\")\n",
    "traceplot.set_ylabel(\"Parameter value\")"
   ]
  },
  {
   "cell_type": "code",
   "execution_count": 20,
   "metadata": {
    "collapsed": false
   },
   "outputs": [
    {
     "data": {
      "image/png": "[encoded data removed]",
      "text/plain": [
       "<matplotlib.figure.Figure at 0x2d7a18155f8>"
      ]
     },
     "metadata": {},
     "output_type": "display_data"
    }
   ],
   "source": [
    "trace_burnt = trace[500:999]\n",
    "hist_plot = trace_burnt.hist(bins = 30, layout = (1,3))"
   ]
  },
  {
   "cell_type": "code",
   "execution_count": 21,
   "metadata": {
    "collapsed": false
   },
   "outputs": [
    {
     "name": "stdout",
     "output_type": "stream",
     "text": [
      "beta_0     0.014911\n",
      "beta_1     0.001666\n",
      "tau       10.797201\n",
      "dtype: float64\n",
      "beta_0    0.157283\n",
      "beta_1    0.022936\n",
      "tau       3.353728\n",
      "dtype: float64\n"
     ]
    }
   ],
   "source": [
    "print(trace_burnt.median())\n",
    "print(trace_burnt.std())"
   ]
  },
  {
   "cell_type": "code",
   "execution_count": 17,
   "metadata": {
    "collapsed": false
   },
   "outputs": [
    {
     "name": "stdout",
     "output_type": "stream",
     "text": [
      "0.037078\n"
     ]
    }
   ],
   "source": [
    "beta_0_true = 0.004626\n",
    "beta_1_true = 0.003416\n",
    "tau_true = 10.564020\n",
    "# tweets positive rate in sample period\n",
    "x = 9.5\n",
    "y = beta_0_true + beta_1_true * x \n",
    "print(y)"
   ]
  },
  {
   "cell_type": "markdown",
   "metadata": {},
   "source": [
    "## Given tweet ID, count ALL positive rate after this tweet for a user\n"
   ]
  },
  {
   "cell_type": "code",
   "execution_count": 22,
   "metadata": {
    "collapsed": false
   },
   "outputs": [
    {
     "name": "stdout",
     "output_type": "stream",
     "text": [
      "The retweet_count rate over days is 0.0000.\n",
      "The tweets rate over days is 0.0000.\n",
      "0\n",
      "The tweets positive rate over days is 0.0000.\n",
      "54\n",
      "The tweets positive rate over days is (By Gibbs) 0.0969.\n"
     ]
    }
   ],
   "source": [
    "user_screen_name = ['HighestHonor_', 'FHNChicago', 'izzybaeby_',\\\n",
    "                    'projectaccesshc', 'ShadowKat2K', 'lulu111593',\\\n",
    "                    'BlairMeadows', 'dragnesdc', 'supersoul1970', 'RoopawcalypseAD']\n",
    "tweets_ID = [840438728397082624, 840438702979473408, 840436438105706497,\\\n",
    "             840435185380282368, 840371731273515008, 840369198392008704,\\\n",
    "             840362389874868225, 840352545100910593, 840349682228387840, 840232127232909312]\n",
    "index = 8\n",
    "screen_name_s = \"RoopawcalypseAD\"\n",
    "tweet_id = 840232127232909312\n",
    "\n",
    "new_tweets = api.user_timeline(screen_name = screen_name_s,\\\n",
    "                               since_id = tweet_id, count=200)\n",
    "\n",
    "outtweets = [[tweet.id_str, tweet.created_at, \\\n",
    "              tweet.text.encode(\"utf-8\"), tweet.retweet_count] for tweet in new_tweets]\n",
    " \n",
    "\n",
    "with open('%s_tweets_in_sample.csv' % screen_name_s, 'w') as f:\n",
    "        writer = csv.writer(f)\n",
    "        writer.writerow([\"id\",\"created_at\",\"text\", \"retweet_count\"])\n",
    "        writer.writerows(outtweets)\n",
    "        \n",
    "file =str(screen_name_s)  + \"_tweets_in_sample.csv\"\n",
    "df = pd.read_csv(file)\n",
    "date_format = \"%Y-%m-%d %H:%M:%S\"\n",
    "\n",
    "a = datetime.strptime(df.created_at[0], date_format)\n",
    "b = datetime.strptime(df.created_at[df.id.count()-1], date_format)\n",
    "delta = a- b \n",
    "#print(delta.days)\n",
    "\n",
    "id_list=[]\n",
    "created_time_list=[]\n",
    "text_list=[]\n",
    "retweet_list = []\n",
    "        \n",
    "\n",
    "for i in range(0, df.id.count()):\n",
    "    if (\"flu shot\" in df.text[i]):\n",
    "        id_list.append(df.id[i])\n",
    "        created_time_list.append(df.created_at[i])\n",
    "        text_list.append(df.text[1])\n",
    "        #retweet_list.append(df.retweet_count[i])\n",
    "    else:\n",
    "        continue\n",
    "\n",
    "\n",
    "print('The retweet_count rate over days is %.4f.' % float((sum(retweet_list))/delta.days)) \n",
    "\n",
    "print('The tweets rate over days is %.4f.' % float((len(id_list))/delta.days)) \n",
    "\n",
    "# collected tweets with flu shot polarity\n",
    "positive_count = 0\n",
    "for i in range(0, (len(id_list))):\n",
    "    wordList = re.sub(\"[^\\w]\", \" \", df.text[i]).split()\n",
    "    for word in wordList: \n",
    "        if word.isalpha() and (is_positive(str(word))):\n",
    "            positive_count = positive_count + 1\n",
    "print(positive_count)\n",
    "print('The tweets positive rate over days is %.4f.' % float(positive_count/delta.days))\n",
    "\n",
    "\n",
    "# collected tweets with flu shot polarity\n",
    "positive_count = 0\n",
    "for i in range(0, (df.id.count())):\n",
    "    wordList = re.sub(\"[^\\w]\", \" \", df.text[i]).split()\n",
    "    for word in wordList: \n",
    "        if word.isalpha() and (is_positive(str(word))):\n",
    "            positive_count = positive_count + 1\n",
    "print(positive_count)\n",
    "print('The tweets positive rate over days is (By Gibbs) %.4f.' % \\\n",
    "      float( beta_0_true + (beta_1_true * positive_count / delta.days)))\n"
   ]
  },
  {
   "cell_type": "code",
   "execution_count": null,
   "metadata": {
    "collapsed": true
   },
   "outputs": [],
   "source": []
  }
 ],
 "metadata": {
  "anaconda-cloud": {},
  "kernelspec": {
   "display_name": "Python [Root]",
   "language": "python",
   "name": "Python [Root]"
  },
  "language_info": {
   "codemirror_mode": {
    "name": "ipython",
    "version": 3
   },
   "file_extension": ".py",
   "mimetype": "text/x-python",
   "name": "python",
   "nbconvert_exporter": "python",
   "pygments_lexer": "ipython3",
   "version": "3.5.2"
  }
 },
 "nbformat": 4,
 "nbformat_minor": 0
}
